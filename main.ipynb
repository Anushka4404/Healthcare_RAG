{
 "cells": [
  {
   "cell_type": "code",
   "execution_count": 36,
   "metadata": {},
   "outputs": [],
   "source": [
    "import os\n",
    "from pinecone import Pinecone, ServerlessSpec\n",
    "from langchain.chains import RetrievalQA\n",
    "from langchain.vectorstores import Pinecone as PineconeVectorStore\n",
    "from langchain.document_loaders import PyPDFLoader\n",
    "from langchain.text_splitter import RecursiveCharacterTextSplitter\n",
    "from langchain.embeddings import HuggingFaceEmbeddings\n",
    "from langchain.llms import ollama\n",
    "from dotenv import load_dotenv"
   ]
  },
  {
   "cell_type": "code",
   "execution_count": 37,
   "metadata": {},
   "outputs": [],
   "source": [
    "# Load environment variables (replace or ensure .env has these)\n",
    "PINECONE_API_KEY = \"pcsk_5WhKTT_4whYJxqvTNsVyEHVR73WfmzWpwnVDVdFhS9u1PSgQkG9Vwd7tVr53t7j7UzPYLB\"  # Replace with your Pinecone API key\n",
    "PINECONE_ENVIRONMENT = \"us-east-1\"  # Replace with your Pinecone environment\n",
    "PINECONE_INDEX_NAME = \"medical-chatbot\"  # Your Pinecone index name\n",
    "\n",
    "# Step 1: Initialize Pinecone using the new API\n",
    "pinecone_instance = Pinecone(api_key=PINECONE_API_KEY)\n",
    "serverless_spec = ServerlessSpec(region=PINECONE_ENVIRONMENT, cloud=\"aws\")"
   ]
  },
  {
   "cell_type": "code",
   "execution_count": 38,
   "metadata": {},
   "outputs": [
    {
     "name": "stdout",
     "output_type": "stream",
     "text": [
      "Connected to Pinecone index: medical-chatbot\n"
     ]
    }
   ],
   "source": [
    "# Step 2: Create or connect to the Pinecone index\n",
    "existing_indexes=[index['name'] for index in pinecone_instance.list_indexes()]\n",
    "if PINECONE_INDEX_NAME not in existing_indexes:\n",
    "        pinecone_instance.create_index(\n",
    "            name=PINECONE_INDEX_NAME,\n",
    "            dimension=384,\n",
    "            metric=\"cosine\",\n",
    "            spec=serverless_spec\n",
    "        )\n",
    "index = pinecone_instance.Index(PINECONE_INDEX_NAME)\n",
    "print(f\"Connected to Pinecone index: {PINECONE_INDEX_NAME}\")"
   ]
  },
  {
   "cell_type": "code",
   "execution_count": 39,
   "metadata": {},
   "outputs": [],
   "source": [
    "# Step 3: Load and process the PDF file\n",
    "loader = PyPDFLoader(\"medical_book.pdf\")  # Replace with your PDF file\n",
    "documents = loader.load()"
   ]
  },
  {
   "cell_type": "code",
   "execution_count": 56,
   "metadata": {},
   "outputs": [],
   "source": [
    "# Split documents into smaller chunks\n",
    "text_splitter = RecursiveCharacterTextSplitter(chunk_size=1024, chunk_overlap=0)\n",
    "texts = text_splitter.split_documents(documents)"
   ]
  },
  {
   "cell_type": "code",
   "execution_count": 57,
   "metadata": {},
   "outputs": [],
   "source": [
    "# Step 4: Generate embeddings and upload them to Pinecone\n",
    "embeddings = HuggingFaceEmbeddings(model_name=\"sentence-transformers/all-MiniLM-L6-v2\")\n"
   ]
  },
  {
   "cell_type": "code",
   "execution_count": 58,
   "metadata": {},
   "outputs": [],
   "source": [
    "import os\n",
    "os.environ['PINECONE_API_KEY'] = \"pcsk_5WhKTT_4whYJxqvTNsVyEHVR73WfmzWpwnVDVdFhS9u1PSgQkG9Vwd7tVr53t7j7UzPYLB\""
   ]
  },
  {
   "cell_type": "code",
   "execution_count": 59,
   "metadata": {},
   "outputs": [
    {
     "name": "stdout",
     "output_type": "stream",
     "text": [
      "PDF content successfully uploaded to Pinecone.\n"
     ]
    }
   ],
   "source": [
    "# Convert documents to Pinecone-compatible vector store\n",
    "vectorstore = PineconeVectorStore.from_texts(\n",
    "    texts=[doc.page_content for doc in texts],\n",
    "    embedding=embeddings,\n",
    "    index_name=PINECONE_INDEX_NAME,\n",
    "    namespace=\"default\",  # Optional: Define a namespace\n",
    "    # pinecone_client=pinecone_instance  # Pass the initialized Pinecone client\n",
    ")\n",
    "print(\"PDF content successfully uploaded to Pinecone.\")"
   ]
  },
  {
   "cell_type": "code",
   "execution_count": 61,
   "metadata": {},
   "outputs": [],
   "source": [
    "from langchain_ollama import OllamaLLM"
   ]
  },
  {
   "cell_type": "code",
   "execution_count": 65,
   "metadata": {},
   "outputs": [],
   "source": [
    "import ollama\n",
    "from langchain_community.llms import Ollama"
   ]
  },
  {
   "cell_type": "code",
   "execution_count": 66,
   "metadata": {},
   "outputs": [],
   "source": [
    "def query_chatbot(question):\n",
    "    embeddings=HuggingFaceEmbeddings(model_name=\"sentence-transformers/all-MiniLM-L6-v2\")\n",
    "    docsearch = Pinecone.from_existing_index(index_name=PINECONE_INDEX_NAME,embedding=embeddings)\n",
    "    llm = Ollama(model=\"llama3.2\")\n",
    "    qa_chain=RetrievalQA.from_chain_type(llm=llm, chain_type=\"map_reduce\", retriever=docsearch.as_retriever())\n",
    "    response=qa_chain.run(question)\n",
    "    return response"
   ]
  },
  {
   "cell_type": "code",
   "execution_count": 67,
   "metadata": {},
   "outputs": [
    {
     "name": "stdout",
     "output_type": "stream",
     "text": [
      "Chatbot's response: Based on the provided text, I don't have enough information to determine what vitamins are. The text does not provide a clear definition of vitamins or list specific types of vitamins.\n",
      "\n",
      "However, it is known that there are two main categories of vitamins:\n",
      "\n",
      "1. Water-soluble vitamins (also known as fat-soluble vitamins):\n",
      "\t* Vitamin A\n",
      "\t* Vitamin D\n",
      "\t* Vitamin E\n",
      "\t* Vitamin K\n",
      "2. Fat-soluble vitamins:\n",
      "\t* Vitamins B\n",
      "\n",
      "The text only provides a definition of water-soluble vitamins, which includes any information about what vitamins are.\n",
      "\n",
      "Therefore, I must say that I don't know the specific answer to your question about vitamins.\n"
     ]
    }
   ],
   "source": [
    "# Step 6: Ask a question to the chatbot\n",
    "query = \"What are vitamins? Name some vitamins.\"\n",
    "response = query_chatbot(query)\n",
    "print(\"Chatbot's response:\", response)"
   ]
  },
  {
   "cell_type": "code",
   "execution_count": 68,
   "metadata": {},
   "outputs": [
    {
     "name": "stdout",
     "output_type": "stream",
     "text": [
      "Chatbot's response: Based on the provided texts, \"Acne\" is not explicitly defined or explained in the given snippet. However, it is mentioned as a topic within the broader category of \"Cutaneous Infections, Acne, and Other Common Skin Disorders.\"\n",
      "\n",
      "The most relevant information about acne can be found in other sources, such as:\n",
      "\n",
      "* Wolf Jr., John E. “Contact Dermatitis.” In Conn’s Current Therapy, 1996, ed. Robert E. Rakel. Philadelphia: W. B. Saunders Co., 1996.\n",
      "* Anthony S. Fauci, et al. New York: McGraw-Hill, 1997.\n",
      "\n",
      "These sources provide more comprehensive information about acne, but they are not included in the provided snippet.\n",
      "\n",
      "Therefore, I do not have enough information to provide a definitive answer to what acne is based on the given texts.\n"
     ]
    }
   ],
   "source": [
    "# Step 6: Ask a question to the chatbot\n",
    "query = \"What is acne\"\n",
    "response = query_chatbot(query)\n",
    "print(\"Chatbot's response:\", response)"
   ]
  },
  {
   "cell_type": "code",
   "execution_count": null,
   "metadata": {},
   "outputs": [],
   "source": []
  }
 ],
 "metadata": {
  "kernelspec": {
   "display_name": "base",
   "language": "python",
   "name": "python3"
  },
  "language_info": {
   "codemirror_mode": {
    "name": "ipython",
    "version": 3
   },
   "file_extension": ".py",
   "mimetype": "text/x-python",
   "name": "python",
   "nbconvert_exporter": "python",
   "pygments_lexer": "ipython3",
   "version": "3.11.5"
  }
 },
 "nbformat": 4,
 "nbformat_minor": 2
}
